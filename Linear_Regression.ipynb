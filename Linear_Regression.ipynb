{
 "cells": [
  {
   "cell_type": "markdown",
   "metadata": {},
   "source": [
    "## Regression\n",
    "[def.] a statistical aproach to establish the relationship among variables\n",
    "\n",
    "basicaly two ways of training any regression model:\n",
    "\n",
    "using a direct equation form **closed-form eqution approach**\n",
    "using iterative optimization approach (e.g. Gradient Descent, SGD, etc)"
   ]
  },
  {
   "cell_type": "markdown",
   "metadata": {},
   "source": [
    "## linear regression:\n"
   ]
  },
  {
   "cell_type": "code",
   "execution_count": 2,
   "metadata": {},
   "outputs": [],
   "source": [
    "import pandas as pd\n",
    "import numpy as np\n",
    "import matplotlib.pyplot as plt\n",
    "%matplotlib inline"
   ]
  },
  {
   "cell_type": "code",
   "execution_count": 3,
   "metadata": {},
   "outputs": [
    {
     "data": {
      "text/html": [
       "<div>\n",
       "<style scoped>\n",
       "    .dataframe tbody tr th:only-of-type {\n",
       "        vertical-align: middle;\n",
       "    }\n",
       "\n",
       "    .dataframe tbody tr th {\n",
       "        vertical-align: top;\n",
       "    }\n",
       "\n",
       "    .dataframe thead th {\n",
       "        text-align: right;\n",
       "    }\n",
       "</style>\n",
       "<table border=\"1\" class=\"dataframe\">\n",
       "  <thead>\n",
       "    <tr style=\"text-align: right;\">\n",
       "      <th></th>\n",
       "      <th>Height</th>\n",
       "      <th>Weight</th>\n",
       "    </tr>\n",
       "  </thead>\n",
       "  <tbody>\n",
       "    <tr>\n",
       "      <td>0</td>\n",
       "      <td>1.47</td>\n",
       "      <td>52.21</td>\n",
       "    </tr>\n",
       "    <tr>\n",
       "      <td>1</td>\n",
       "      <td>1.50</td>\n",
       "      <td>53.12</td>\n",
       "    </tr>\n",
       "    <tr>\n",
       "      <td>2</td>\n",
       "      <td>1.52</td>\n",
       "      <td>54.48</td>\n",
       "    </tr>\n",
       "    <tr>\n",
       "      <td>3</td>\n",
       "      <td>1.55</td>\n",
       "      <td>55.84</td>\n",
       "    </tr>\n",
       "    <tr>\n",
       "      <td>4</td>\n",
       "      <td>1.57</td>\n",
       "      <td>57.20</td>\n",
       "    </tr>\n",
       "  </tbody>\n",
       "</table>\n",
       "</div>"
      ],
      "text/plain": [
       "   Height  Weight\n",
       "0    1.47   52.21\n",
       "1    1.50   53.12\n",
       "2    1.52   54.48\n",
       "3    1.55   55.84\n",
       "4    1.57   57.20"
      ]
     },
     "execution_count": 3,
     "metadata": {},
     "output_type": "execute_result"
    }
   ],
   "source": [
    "# loading the dataset\n",
    "data = pd.read_csv(\"C:/Users/Geethika Reddy/Downloads/heights-and-weights/data.csv\")\n",
    "data.head()\n"
   ]
  },
  {
   "cell_type": "code",
   "execution_count": 27,
   "metadata": {},
   "outputs": [],
   "source": [
    "#prepare the data:\n",
    "X=data.loc[:,:\"Height\"]\n",
    "y=data.loc[:,:\"Weight\"]"
   ]
  },
  {
   "cell_type": "code",
   "execution_count": 28,
   "metadata": {},
   "outputs": [
    {
     "data": {
      "image/png": "[encoded data removed]",
      "text/plain": [
       "<Figure size 432x288 with 1 Axes>"
      ]
     },
     "metadata": {
      "needs_background": "light"
     },
     "output_type": "display_data"
    }
   ],
   "source": [
    "#plot it out\n",
    "\n",
    "data.plot(kind=\"scatter\",x=\"Height\",y=\"Weight\")\n",
    "plt.show()"
   ]
  },
  {
   "cell_type": "markdown",
   "metadata": {},
   "source": [
    "general equation for any straight line **y = c + mx**<br>\n",
    "$$ Height = \\theta_{0} + \\theta_{1} * Weight $$\n",
    "where  θ0  and  θ1  are our ML model's parameters (i.e., HEight & Weight)<br>\n",
    "\n",
    "how to measure the performance for this ML model that we'll build?<br>\n",
    "\n",
    " ## cost function / utility function / fitness function\n",
    " \n",
    "for most regression, the **cost function** is usually the measure of distance b/w the predicted value and the actual value.<br>\n",
    "\n",
    "various ways to evaluate the performance of a model:<br>\n",
    "\n",
    "**Root Mean Squared Error (RMSE)** RMSE basically gives an idea of how much the error your ML system is making in its prediction.<br>\n",
    "\n",
    "$$ RMSE(X,f) = \\sqrt{\\frac{1}{m}\\sum_{i=0}^{m}(f(x^i)-y^2}$$\n",
    "\n",
    "where m : total no. of instances<br>\n",
    "f: hypothesis function/Model prediction function<br>\n",
    "f(x): predicted value after going through prediction function<br>\n",
    "y: actual target value<br>\n",
    "xi :  ith  element of the feature vector x<br>\n",
    "\n",
    "**Mean Squared Error (MSE)** practically similar to RMSE except for the sqaure root<br>\n",
    "\n",
    "**Mean Absolute Error (MAE)** gives you the same idea of how much your predicted values is deviating from the actual values.<br>\n",
    "**The only difference is in the way the distances are calculated in RMSE/MSE and MAE<br>\n",
    "$$ MAE(X,f) = \\frac{1}{m}\\sum_{i=1}^{m}|f(x^{i}) - y^{i})|$$\n",
    "\n",
    "RMSE basically uses **Euclidean distance approach.** Also called as **l2 norm of measuring distances.**\n",
    "MAE uses **Manhattan distance approach.** Also called as **l1 norms of measuring distances.**<br>\n",
    "\n",
    "there are other higher order norms of measuring these distances and as we go along increasing the norm (something like  lk  norm ) these functions start focusing more on larger values and kind of start ignoring the smaller values<br>\n",
    "\n",
    "therefore, **RMSE is more sensitive to outliers than MAE**<br>\n",
    "\n",
    "[NOTE] when we have exponentially less outliers, then even RMSE performs well.<br>"
   ]
  },
  {
   "cell_type": "code",
   "execution_count": 29,
   "metadata": {},
   "outputs": [
    {
     "data": {
      "text/plain": [
       "LinearRegression(copy_X=True, fit_intercept=True, n_jobs=None, normalize=False)"
      ]
     },
     "execution_count": 29,
     "metadata": {},
     "output_type": "execute_result"
    }
   ],
   "source": [
    "## training our model:\n",
    "from sklearn.linear_model import LinearRegression\n",
    "\n",
    "lr=LinearRegression()\n",
    "lr.fit(X,y)"
   ]
  },
  {
   "cell_type": "code",
   "execution_count": 39,
   "metadata": {},
   "outputs": [
    {
     "data": {
      "text/plain": [
       "array([ 4.44089210e-16, -3.90619559e+01])"
      ]
     },
     "execution_count": 39,
     "metadata": {},
     "output_type": "execute_result"
    }
   ],
   "source": [
    "#to get the intercept value:\n",
    "\n",
    "lr.intercept_"
   ]
  },
  {
   "cell_type": "code",
   "execution_count": 41,
   "metadata": {},
   "outputs": [
    {
     "data": {
      "text/plain": [
       "array([[ 1.        ],\n",
       "       [61.27218654]])"
      ]
     },
     "execution_count": 41,
     "metadata": {},
     "output_type": "execute_result"
    }
   ],
   "source": [
    "#to get the coeffecient:\n",
    "lr.coef_"
   ]
  },
  {
   "cell_type": "markdown",
   "metadata": {},
   "source": [
    "so for our case, the most optimal parameter would be  $$\\theta_{0}=4.44 and \\theta_{1}= 1$$"
   ]
  },
  {
   "cell_type": "code",
   "execution_count": 46,
   "metadata": {},
   "outputs": [
    {
     "data": {
      "text/plain": [
       "array([[ 1.7      , 65.1007612]])"
      ]
     },
     "execution_count": 46,
     "metadata": {},
     "output_type": "execute_result"
    }
   ],
   "source": [
    " #predicting Weight given some Height\n",
    "\n",
    "some_gdp = [[1.7]] #height\n",
    "lr.predict(some_gdp)"
   ]
  },
  {
   "cell_type": "markdown",
   "metadata": {},
   "source": [
    "65.100 is the predicted weight"
   ]
  },
  {
   "cell_type": "markdown",
   "metadata": {},
   "source": [
    "The Normal equation\n",
    "to find the best value for out  θ  that would minimize the cost function to its least, we use a mathematical approach called The Normal Equation\n",
    "$$ \\hat{\\theta} = (X^{T}.X)^{-1}.X^{T}.y $$\n",
    "\n",
    "where $\\hat{\\theta}$:value that minimizes the cost function<br>\n",
    "    X: feature vector<br>\n",
    "    y: target value"
   ]
  },
  {
   "cell_type": "code",
   "execution_count": 47,
   "metadata": {},
   "outputs": [],
   "source": [
    "# lets generate some random linear dataset\n",
    "\n",
    "X = 2 * np.random.rand(100,1)\n",
    "y = 4 + 3 * X + np.random.rand(100, 1)"
   ]
  },
  {
   "cell_type": "markdown",
   "metadata": {},
   "source": [
    "this is basically,<br>\n",
    "\n",
    "$$ y=4 + 3x+{0} + someNoise $$"
   ]
  },
  {
   "cell_type": "code",
   "execution_count": 49,
   "metadata": {},
   "outputs": [
    {
     "data": {
      "image/png": "[encoded data removed]",
      "text/plain": [
       "<Figure size 576x432 with 1 Axes>"
      ]
     },
     "metadata": {
      "needs_background": "light"
     },
     "output_type": "display_data"
    }
   ],
   "source": [
    "plt.figure(figsize=(8,6))\n",
    "plt.plot(X, y, \"b.\")\n",
    "plt.xlabel(\"$x_1$\", fontsize=12)\n",
    "plt.ylabel(\"$y$\", fontsize=12)\n",
    "plt.axis([0, 2, 0, 15])\n",
    "\n",
    "plt.show()"
   ]
  },
  {
   "cell_type": "code",
   "execution_count": 50,
   "metadata": {},
   "outputs": [],
   "source": [
    "X_b = np.c_[np.ones((100, 1)), X] # adding x0 = 1 to each instance\n",
    "theta_best = np.linalg.inv(X_b.T.dot(X_b)).dot(X_b.T).dot(y) # normal eq."
   ]
  },
  {
   "cell_type": "code",
   "execution_count": 51,
   "metadata": {},
   "outputs": [
    {
     "data": {
      "text/plain": [
       "array([[4.52648841],\n",
       "       [3.03581829]])"
      ]
     },
     "execution_count": 51,
     "metadata": {},
     "output_type": "execute_result"
    }
   ],
   "source": [
    "theta_best"
   ]
  },
  {
   "cell_type": "code",
   "execution_count": 52,
   "metadata": {},
   "outputs": [
    {
     "data": {
      "text/plain": [
       "array([[ 4.52648841],\n",
       "       [10.59812498]])"
      ]
     },
     "execution_count": 52,
     "metadata": {},
     "output_type": "execute_result"
    }
   ],
   "source": [
    "X_new = np.array([[0], [2]])\n",
    "X_new_b = np.c_[np.ones((2, 1)), X_new] # adding x0=1 bias to each instance\n",
    "\n",
    "y_predict = X_new_b.dot(theta_best)\n",
    "y_predict"
   ]
  },
  {
   "cell_type": "code",
   "execution_count": 53,
   "metadata": {},
   "outputs": [
    {
     "data": {
      "image/png": "[encoded data removed]",
      "text/plain": [
       "<Figure size 576x432 with 1 Axes>"
      ]
     },
     "metadata": {
      "needs_background": "light"
     },
     "output_type": "display_data"
    }
   ],
   "source": [
    "plt.figure(figsize=(8,6))\n",
    "plt.plot(X_new, y_predict, \"r-\")\n",
    "plt.plot(X, y, \"b.\")\n",
    "plt.axis([0, 2, 0, 15])\n",
    "plt.show()"
   ]
  },
  {
   "cell_type": "markdown",
   "metadata": {},
   "source": [
    "## Gradient Descent:\n",
    "Gradient Descent is basically generic optimizatio algorithm capable of finding the optimal solution to wide range of problems.<br>\n",
    "\n",
    "[story inside it] the general idea of GD is to tweak your parameters of a model iteratively so as to minimize its cost function.<br>\n",
    "\n",
    "\n",
    "**what values shoud  θ  have initially?** well we start out filling int random values for our model parameters. this is also called random initialization<br>\n",
    "\n",
    "remember the baby steps the man takes to descent down the hill thats what we call **learning rate**<br>\n",
    "\n",
    "**if your learning rate is too small, your model will have to go through many iterations to converge to global minima wherein your cost function is at its least**<br>\n",
    "\n",
    "**on the other hand, if you set it out to be a large value, chances are that you jump across the valleys, you might even end up at a point thats higher than the value you had initially, this again will more time to train**<br>\n",
    "\n",
    "ideally people experiment out with diff diff values for the learning rate.<br>\n",
    "\n",
    "**BONUS** the MSE is originally a convex function in nature.<br>\n",
    "\n",
    "**TIP** if you scale your feature vectors to the same scale, you have chances you reaching the minima for your cost function at the eariest."
   ]
  },
  {
   "cell_type": "code",
   "execution_count": 54,
   "metadata": {},
   "outputs": [
    {
     "data": {
      "text/plain": [
       "(array([4.52648841]), array([[3.03581829]]))"
      ]
     },
     "execution_count": 54,
     "metadata": {},
     "output_type": "execute_result"
    }
   ],
   "source": [
    "from sklearn.linear_model import LinearRegression\n",
    "lin_reg = LinearRegression()\n",
    "lin_reg.fit(X, y)\n",
    "lin_reg.intercept_, lin_reg.coef_"
   ]
  },
  {
   "cell_type": "code",
   "execution_count": 55,
   "metadata": {},
   "outputs": [
    {
     "data": {
      "text/plain": [
       "array([[ 4.52648841],\n",
       "       [10.59812498]])"
      ]
     },
     "execution_count": 55,
     "metadata": {},
     "output_type": "execute_result"
    }
   ],
   "source": [
    "lin_reg.predict(X_new)"
   ]
  },
  {
   "cell_type": "markdown",
   "metadata": {},
   "source": [
    "## Feature Scaling\n",
    "[core idea] whenever you have numerical attributes all in diff diff ranges (e.g. 10% - 54%, 0.12 to 0.99. 28 to 34324),\n",
    "you would want to bring all these numerical attributes onto the same scale. That's when you do feature scaling.<br>\n",
    "\n",
    "two most common approaches are:<br>\n",
    "\n",
    "Min-Max Scaling : you shift every numerical attirbute b/w a min and a max range.<br>\n",
    "Normalization/ Standard Scaling : you subtract every numerical attirbute with its minimum and then yu divide it out unit variance.<br>\n",
    "    \n",
    "   "
   ]
  },
  {
   "cell_type": "markdown",
   "metadata": {},
   "source": [
    " $$Z_{min-max scalling} = \\frac{x - min(x)}{max(x) - min(x))}$$\n",
    "    \n",
    "    from sklearn.preprocessing import MinMaxScaler<br>\n",
    "    \n",
    "  "
   ]
  },
  {
   "cell_type": "markdown",
   "metadata": {},
   "source": [
    "  $$Z_{normalization} = \\frac{X - \\mu}{\\sigma}$$\n",
    "    \n",
    "    from sklearn.preprocessing import StandardScaler<br>\n",
    "    \n",
    "    where  μ  is mean<br>\n",
    "      X: feature vector<br>\n",
    "      σ  is standard deviation"
   ]
  },
  {
   "cell_type": "markdown",
   "metadata": {},
   "source": [
    "## Batch Gradient Descent:\n",
    "to implement any GD, we first calculate the gradient of the cost function w.r.t the model parameters $\\theta_{i}$ <br>\n",
    "in other words how much will our cost func change in its magnitude when we slightly change the values  $\\theta_{i}$ .<br>\n",
    "\n",
    "this is actually achieved through partial derivation of the changes in cost function<br>\n",
    "\n",
    "$$\\frac{\\delta}{\\delta\\theta_{j}}MSE(\\theta) = \\frac{2}{m}\\sum_{i=1}^{m}(\\theta^{T}.x^{i}-y^{i}.x^{i}_{j})$$\n",
    "\n",
    "**gradient vector of the cost function**\n",
    "\n",
    "$$\\triangledown_{\\theta}MSE(\\theta) = \\frac{2}{m}X^{T}.(X.\\theta - y)$$"
   ]
  },
  {
   "cell_type": "markdown",
   "metadata": {},
   "source": [
    "this will basically point you to the uphill, but our goal is to descend or reach the minima, therefore, we'll go in the opposite direction of the uphill. Hence, the formula for next gradient descent step will be:<br>\n",
    "\n",
    "$$\\theta^{next step} = \\theta - \\alpha\\triangledown_{\\theta}MSE(\\theta)$$\n",
    "\n",
    "where $\\alpha\\triangledown_{\\theta}MSE(\\theta)$ is your **size of the step**<br>\n",
    "α  is learning rate\n"
   ]
  },
  {
   "cell_type": "markdown",
   "metadata": {},
   "source": [
    "## Stochastic Gradient Descent\n",
    "[core idea] the problem with BGD, is that it uses the whole training set to compute the gradient at each step, which makes it very slow to train on larger dataset.<br>\n",
    "SGD just picks some random instance in the training set and then computes the gradient of the cost function at that single instance. so less comutation in tweaking our model parameters (bcz this is a tweak just across one instance & not the entire parameters of the entire dataset). Hence its faster at reaching you global minima!<br>\n",
    "\n",
    "stochastic means random.<br>\n",
    "\n",
    "SGD more preferred ove BGD<br>"
   ]
  },
  {
   "cell_type": "markdown",
   "metadata": {},
   "source": [
    "## Mini Batch Gradient Descent\n",
    "it just grabs a smalled sub-set of the entire dataset (called batch) and then computes the gradient descent for the cost function for this whole batch before moving ahead."
   ]
  },
  {
   "cell_type": "markdown",
   "metadata": {},
   "source": [
    "## Polynomial Regression:\n",
    "\n",
    "$$y=ax^2 + bx +c$$(2 degree polynomial function)\n",
    "\n",
    "[core idea] whenever there's non-linear dataset,you cant straight away fit in linear rule.you then imply a higher order \n",
    "polynomial function"
   ]
  },
  {
   "cell_type": "code",
   "execution_count": 59,
   "metadata": {},
   "outputs": [],
   "source": [
    "np.random.seed(42)\n",
    "\n",
    "m = 100\n",
    "X = 6 * np.random.rand(m, 1) - 3\n",
    "y = 0.5 * X**2 + X * 2 + np.random.randn(m, 1) # quadratic equation"
   ]
  },
  {
   "cell_type": "code",
   "execution_count": 60,
   "metadata": {},
   "outputs": [
    {
     "data": {
      "image/png": "[encoded data removed]",
      "text/plain": [
       "<Figure size 432x288 with 1 Axes>"
      ]
     },
     "metadata": {
      "needs_background": "light"
     },
     "output_type": "display_data"
    }
   ],
   "source": [
    "plt.plot(X, y, \"b.\")\n",
    "plt.xlabel(\"$X_1$\", fontsize=12)\n",
    "plt.ylabel(\"$y$\", fontsize=12)\n",
    "plt.axis([-5, 5, -5, 10])\n",
    "plt.show()"
   ]
  },
  {
   "cell_type": "code",
   "execution_count": 61,
   "metadata": {},
   "outputs": [],
   "source": [
    "from sklearn.preprocessing import PolynomialFeatures\n",
    "\n",
    "poly_features = PolynomialFeatures(degree=2, include_bias=False)\n",
    "\n",
    "X_poly = poly_features.fit_transform(X)"
   ]
  },
  {
   "cell_type": "code",
   "execution_count": 62,
   "metadata": {},
   "outputs": [
    {
     "data": {
      "text/plain": [
       "array([-0.75275929])"
      ]
     },
     "execution_count": 62,
     "metadata": {},
     "output_type": "execute_result"
    }
   ],
   "source": [
    "X[0]"
   ]
  },
  {
   "cell_type": "code",
   "execution_count": 63,
   "metadata": {},
   "outputs": [
    {
     "data": {
      "text/plain": [
       "array([-0.75275929,  0.56664654])"
      ]
     },
     "execution_count": 63,
     "metadata": {},
     "output_type": "execute_result"
    }
   ],
   "source": [
    "X_poly[0]"
   ]
  },
  {
   "cell_type": "code",
   "execution_count": 64,
   "metadata": {},
   "outputs": [
    {
     "data": {
      "text/plain": [
       "(array([-0.21865419]), array([[1.93366893, 0.56456263]]))"
      ]
     },
     "execution_count": 64,
     "metadata": {},
     "output_type": "execute_result"
    }
   ],
   "source": [
    "in_reg = LinearRegression()\n",
    "lin_reg.fit(X_poly, y)\n",
    "lin_reg.intercept_, lin_reg.coef_"
   ]
  },
  {
   "cell_type": "markdown",
   "metadata": {},
   "source": [
    "predicted line also represents a fitment line thats close to the line where the data points are disbused.<br>\n",
    "\n",
    "Our data points are disbursed at $y = 0.5x^2 + 2x + someNoise$<br>\n",
    "Our predicted points are disbursed at $\\hat{y} = 0.56x^2 + 1.9x + someNoise$<br>"
   ]
  },
  {
   "cell_type": "code",
   "execution_count": 68,
   "metadata": {},
   "outputs": [
    {
     "data": {
      "image/png": "[encoded data removed]",
      "text/plain": [
       "<Figure size 432x288 with 1 Axes>"
      ]
     },
     "metadata": {
      "needs_background": "light"
     },
     "output_type": "display_data"
    }
   ],
   "source": [
    "# plot it out\n",
    "\n",
    "X_new = np.linspace(-5, 5, 100).reshape(100,1)\n",
    "X_new_poly = poly_features.transform(X_new)\n",
    "y_new = lin_reg.predict(X_new_poly)\n",
    "\n",
    "plt.plot(X, y, \"b.\")\n",
    "plt.plot(X_new, y_new, \"r-\", label=\"Prediction\")\n",
    "plt.xlabel(\"$x1$\", fontsize=12)\n",
    "plt.ylabel(\"$y$\", fontsize=12)\n",
    "plt.axis([-5, 3, -3, 10])\n",
    "plt.legend(loc=\"lower right\", fontsize=12)\n",
    "\n",
    "plt.show()"
   ]
  },
  {
   "cell_type": "code",
   "execution_count": 69,
   "metadata": {},
   "outputs": [
    {
     "name": "stderr",
     "output_type": "stream",
     "text": [
      "C:\\Users\\Geethika Reddy\\Anaconda3\\lib\\site-packages\\sklearn\\utils\\validation.py:724: DataConversionWarning: A column-vector y was passed when a 1d array was expected. Please change the shape of y to (n_samples, ), for example using ravel().\n",
      "  y = column_or_1d(y, warn=True)\n"
     ]
    },
    {
     "data": {
      "text/plain": [
       "SGDRegressor(alpha=0.0001, average=False, early_stopping=False, epsilon=0.1,\n",
       "             eta0=0.01, fit_intercept=True, l1_ratio=0.15,\n",
       "             learning_rate='invscaling', loss='squared_loss', max_iter=1000,\n",
       "             n_iter_no_change=5, penalty='l2', power_t=0.25, random_state=29,\n",
       "             shuffle=True, tol=0.001, validation_fraction=0.1, verbose=0,\n",
       "             warm_start=False)"
      ]
     },
     "execution_count": 69,
     "metadata": {},
     "output_type": "execute_result"
    }
   ],
   "source": [
    "# lets try SGD Regressor now\n",
    "\n",
    "from sklearn.linear_model import SGDRegressor\n",
    "\n",
    "sgd_rg = SGDRegressor(random_state=29)\n",
    "sgd_rg.fit(X_poly, y)"
   ]
  },
  {
   "cell_type": "code",
   "execution_count": 70,
   "metadata": {},
   "outputs": [
    {
     "data": {
      "text/plain": [
       "(array([-0.14022412]), array([1.93255706, 0.54160227]))"
      ]
     },
     "execution_count": 70,
     "metadata": {},
     "output_type": "execute_result"
    }
   ],
   "source": [
    "sgd_rg.intercept_, sgd_rg.coef_"
   ]
  },
  {
   "cell_type": "markdown",
   "metadata": {},
   "source": [
    "$$\\frac{(n + d)!}{n!d!}$$\n",
    "\n",
    "e.g. if there are two features a and b, and if we do polynomial transformation to degree=3, it will generate all possibilities till polynomial order of degree 3.......... **a,ab,a2,b2,ab2,a2b**<br> \n",
    "\n",
    "Beware increasing X feature vectors everytime to higher order degree of polynomial function, might lead to **Combinatorial explosion**"
   ]
  },
  {
   "cell_type": "code",
   "execution_count": 71,
   "metadata": {},
   "outputs": [
    {
     "data": {
      "image/png": "[encoded data removed]",
      "text/plain": [
       "<Figure size 864x720 with 1 Axes>"
      ]
     },
     "metadata": {
      "needs_background": "light"
     },
     "output_type": "display_data"
    }
   ],
   "source": [
    "#let see how,\n",
    "\n",
    "from sklearn.preprocessing import StandardScaler\n",
    "from sklearn.pipeline import Pipeline\n",
    "\n",
    "plt.figure(figsize=(12,10))\n",
    "for style, width, degree in (('g-', 2, 300), ('k-*', 0.8, 100), ('b--', 1, 2), ('r-+', 1, 1)):\n",
    "    poly_features = PolynomialFeatures(degree=degree, include_bias=False)\n",
    "    std_scaler = StandardScaler()\n",
    "    lin_reg = LinearRegression()\n",
    "    \n",
    "    polynomial_regression = Pipeline(\n",
    "        [\n",
    "            (\"poly_features\", poly_features),\n",
    "            (\"std_scaler\", std_scaler),\n",
    "            (\"lin_reg\", lin_reg),\n",
    "        ]\n",
    "    )\n",
    "    \n",
    "    polynomial_regression.fit(X, y)\n",
    "    y_newbig = polynomial_regression.predict(X_new)\n",
    "    plt.plot(X_new, y_newbig, style, linewidth=width, label=str(degree))\n",
    "    \n",
    "    \n",
    "plt.plot(X, y, \"b.\", linewidth=3)\n",
    "plt.legend(loc=\"upper left\")\n",
    "plt.xlabel(\"$x_1$\", fontsize=12)\n",
    "plt.xlabel(\"$y$\", fontsize=12)\n",
    "plt.axis([-3, 3, 0, 10])\n",
    "plt.show()"
   ]
  },
  {
   "cell_type": "markdown",
   "metadata": {},
   "source": [
    "how do you verify whether your model is generalizinf well or not?\n",
    "\n",
    "-Cross Validation<br>\n",
    "-Learning Curves"
   ]
  },
  {
   "cell_type": "code",
   "execution_count": 73,
   "metadata": {},
   "outputs": [],
   "source": [
    "# example,\n",
    "\n",
    "from sklearn.metrics import mean_squared_error\n",
    "from sklearn.model_selection import train_test_split\n",
    "\n",
    "def plot_learning_cruve(model, X, y):\n",
    "    X_train, X_val, y_train, y_val = train_test_split(X, y, test_size=0.2, random_state=29)\n",
    "    train_errors, val_errors = [], []\n",
    "    for m in range(1, len(X_train)):\n",
    "        model.fit(X_train[:m], y_train[:m])\n",
    "        y_train_predict = model.predict(X_train[:m])\n",
    "        y_val_predict = model.predict(X_val)\n",
    "        train_errors.append(mean_squared_error(y_train[:m], y_train_predict))\n",
    "        val_errors.append(mean_squared_error(y_val, y_val_predict))\n",
    "        \n",
    "    plt.plot(np.sqrt(train_errors), \"b-\", label=\"train\")\n",
    "    plt.plot(np.sqrt(val_errors), \"g-\", label=\"validation\")\n",
    "    plt.legend(loc=\"upper right\", fontsize=12)\n",
    "    plt.xlabel(\"Training set sizes\", fontsize=12)\n",
    "    plt.ylabel(\"RMSE\", fontsize=12, rotation=0)"
   ]
  },
  {
   "cell_type": "code",
   "execution_count": 74,
   "metadata": {},
   "outputs": [
    {
     "data": {
      "image/png": "[encoded data removed]",
      "text/plain": [
       "<Figure size 864x720 with 1 Axes>"
      ]
     },
     "metadata": {
      "needs_background": "light"
     },
     "output_type": "display_data"
    }
   ],
   "source": [
    "plt.figure(figsize=(12,10))\n",
    "\n",
    "lin_reg = LinearRegression()\n",
    "plot_learning_cruve(lin_reg, X, y)\n",
    "plt.axis([0, 80, 0, 3])\n",
    "plt.show()\n"
   ]
  },
  {
   "cell_type": "markdown",
   "metadata": {},
   "source": [
    "**if your model is underfiotting the training data, adding more training examples will not really help. You will either need to use some complex model or come up with better features**"
   ]
  },
  {
   "cell_type": "code",
   "execution_count": 75,
   "metadata": {},
   "outputs": [
    {
     "data": {
      "image/png": "[encoded data removed]",
      "text/plain": [
       "<Figure size 864x720 with 1 Axes>"
      ]
     },
     "metadata": {
      "needs_background": "light"
     },
     "output_type": "display_data"
    }
   ],
   "source": [
    "polynomial_regression = Pipeline([\n",
    "    (\"poly_features\", PolynomialFeatures(degree=10, include_bias=False)),\n",
    "    (\"lin_reg\", LinearRegression())\n",
    "])\n",
    "\n",
    "plt.figure(figsize=(12,10))\n",
    "plt.axis([0, 80, 0, 10])\n",
    "plot_learning_cruve(polynomial_regression, X, y)\n",
    "plt.show()"
   ]
  },
  {
   "cell_type": "markdown",
   "metadata": {},
   "source": [
    "**whenever your model is performing really better on the training data than it is on validation data, its a hallmark of underfitting**<br>\n",
    "\n",
    "One way to improve overfitting is to pass in mpre training examples, till the time your validation error reaches to a point thats quite close to your training errors."
   ]
  },
  {
   "cell_type": "markdown",
   "metadata": {},
   "source": [
    "## Bias Variance Tradeoff\n",
    "[story behind it] it basically states your model's generalization error, expressed in terms of 3 different erro measures:<br>\n",
    "\n",
    "**measures of regularizing your model:**<br>\n",
    "\n",
    "Bias<br>\n",
    "Variance<br>\n",
    "Irreducible error<br>\n",
    "[theory] Increasing a model's complexity will typically incraese its variance and reduce its bias. Conversely, when you're to reduce the model's complexity you're increasing its bias but reducing its variance. This is the tradeoff.<br>\n",
    "\n",
    "### Bias:\n",
    "this part of generalization error is mainly due to wrong assumption, such as assuming that the data is linear when its actually quadratic.\n",
    "\n",
    "### Variance:\n",
    "this of generalization error is due to model's sensitivity to small variations in the training data. A model with many degrees of freedom (such as the high-degree polynomial model) is very likely to overfit.\n",
    "\n",
    "### Irreducible Error:\n",
    "this part of generalization error basically represents the noisiness of the data. You can reduce it by doing data cleansing, feature enginerring, etc etc\n",
    "\n",
    "### Regularization**\n",
    "\n",
    "Constraining your model to make it simpler and reduce the risk of overfittting is what we call as **Regularization.**\n",
    "\n",
    "**different ways of performing regularization:**\n",
    "\n",
    "-Ridge Regression,<br>\n",
    "-Lasso Regression<br>\n",
    "-Elastic Net<br>\n",
    "-Early Stoppping<br>"
   ]
  },
  {
   "cell_type": "markdown",
   "metadata": {},
   "source": [
    "## Ridge Regression:\n",
    "its basically a regularized version of Linear Regression.\n",
    "\n",
    "$$ J(\\theta) = MSE(\\theta) + \\alpha\\frac{1}{2}\\sum_{i=1}^{n}\\theta_{i}^{2}$$\n",
    "\n",
    "[NOTE] that regularization term should only be added to the cost function during training. [And not in Cross Validation Phase]\n",
    "\n",
    "if  α=0  its basically Linear Regerssion.\n",
    "if  α  is very high, then all your weights end up close to zero, and this in turn results in a flat line thats going through data's mean.\n",
    "\n",
    "This is also called as  **l2  Regularization**"
   ]
  },
  {
   "cell_type": "markdown",
   "metadata": {},
   "source": [
    "## LASSO Regression:\n",
    "**(least absolute shrinkage and selection operator)**\n",
    "\n",
    "$$J(\\theta) = MSE(\\theta) + \\alpha\\sum_{i=1}^{n}|\\theta_{i}|$$\n",
    "\n",
    "This is also called  **l1  Regularization**\n",
    "\n",
    "Lasso basically tends to completely eliminate the weights of the least important fatures (i.e, set them to zero)<br>\n",
    "\n",
    "This will in turn help you with important feature selection."
   ]
  },
  {
   "cell_type": "markdown",
   "metadata": {},
   "source": [
    "## Elastic Net:\n",
    "**its like a middle ground b/w Ridge & Lasso Regression.**\n",
    "\n",
    "$$J(\\theta) = MSE(\\theta) + r\\alpha\\sum_{i=1}^{n}|\\theta{i}| + \\frac{1-r}{2}\\alpha\\sum_{i=1}^{n}\\theta_{i}^{2}$$\n",
    "\n",
    "where  r  : mix ratio\n",
    "\n",
    "When  r=0 , Elastic Net is actually just equivalent to Ridge Regularization,\n",
    "When  r=1 , then its equivalent to Lasso Regularization\n",
    "\n",
    "## Early Stopping:\n",
    "[idea] is to train your model uptil to a point where you training & validation errors are at their minimum and before it start increasing the validation errors."
   ]
  }
 ],
 "metadata": {
  "kernelspec": {
   "display_name": "Python 3",
   "language": "python",
   "name": "python3"
  },
  "language_info": {
   "codemirror_mode": {
    "name": "ipython",
    "version": 3
   },
   "file_extension": ".py",
   "mimetype": "text/x-python",
   "name": "python",
   "nbconvert_exporter": "python",
   "pygments_lexer": "ipython3",
   "version": "3.7.4"
  }
 },
 "nbformat": 4,
 "nbformat_minor": 2
}
